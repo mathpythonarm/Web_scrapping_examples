{
 "cells": [
  {
   "cell_type": "code",
   "execution_count": 18,
   "id": "6d9bbd2a",
   "metadata": {},
   "outputs": [],
   "source": [
    "import requests\n",
    "from bs4 import BeautifulSoup as BS\n",
    "\n",
    "url ='https://www.kitco.com/charts/livegold.html'\n",
    "response = requests.get(url)\n",
    "page_content = BS(response.text, \"html.parser\")\n",
    "\n",
    "Ask_price= page_content.find('div', class_ = 'data-blk ask')\n",
    "Bid_price= page_content.find('div', class_ = 'data-blk bid')\n",
    "Hi_Lo= page_content.find('div', class_ = 'data-blk hi-lo')"
   ]
  },
  {
   "cell_type": "code",
   "execution_count": 19,
   "id": "f6bc83a3",
   "metadata": {},
   "outputs": [
    {
     "name": "stdout",
     "output_type": "stream",
     "text": [
      "Bid price per oz= 1,797.90\n",
      "Ask price per oz= 1,798.90\n",
      "High: 1,807.40Low: 1,789.10\n"
     ]
    }
   ],
   "source": [
    "print(f'Bid price per oz= {Bid_price.text[:-3]}')\n",
    "print(f'Ask price per oz= {Ask_price.text[:-3]}')\n",
    "print(Hi_Lo.text)"
   ]
  },
  {
   "cell_type": "code",
   "execution_count": null,
   "id": "9e32f417",
   "metadata": {},
   "outputs": [],
   "source": []
  }
 ],
 "metadata": {
  "kernelspec": {
   "display_name": "Python 3 (ipykernel)",
   "language": "python",
   "name": "python3"
  },
  "language_info": {
   "codemirror_mode": {
    "name": "ipython",
    "version": 3
   },
   "file_extension": ".py",
   "mimetype": "text/x-python",
   "name": "python",
   "nbconvert_exporter": "python",
   "pygments_lexer": "ipython3",
   "version": "3.10.9"
  }
 },
 "nbformat": 4,
 "nbformat_minor": 5
}
