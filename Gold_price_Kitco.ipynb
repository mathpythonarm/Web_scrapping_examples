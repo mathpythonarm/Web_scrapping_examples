{
 "cells": [
  {
   "cell_type": "code",
   "execution_count": null,
   "id": "6d9bbd2a",
   "metadata": {},
   "outputs": [],
   "source": [
    "import requests\n",
    "from bs4 import BeautifulSoup as BS\n",
    "\n",
    "url ='https://www.kitco.com/charts/livegold.html'\n",
    "response = requests.get(url)\n",
    "page_content = BS(response.text, \"html.parser\")\n",
    "\n",
    "Ask_price= page_content.find('div', class_ = 'data-blk ask')\n",
    "Bid_price= page_content.find('div', class_ = 'data-blk bid')\n",
    "Hi_Lo= page_content.find('div', class_ = 'data-blk hi-lo')"
   ]
  },
  {
   "cell_type": "code",
   "execution_count": null,
   "id": "f6bc83a3",
   "metadata": {},
   "outputs": [],
   "source": [
    "print(f'Bid price per oz= {Bid_price.text[:-3]}')\n",
    "print(f'Ask price per oz= {Ask_price.text[:-3]}')\n",
    "print(Hi_Lo.text)\n",
    "print(f\"Low price:{Hi_Lo.text.split(':')[2].strip()}\")\n",
    "print(f\"High price:{Hi_Lo.text.split(':')[1][:-3].strip()}\")\n"
   ]
  },
  {
   "cell_type": "code",
   "execution_count": null,
   "id": "9e32f417",
   "metadata": {},
   "outputs": [],
   "source": [
    "import pyttsx3\n",
    "engine = pyttsx3.init()\n",
    "engine.say(f\"Gold ask price is : {Ask_price.text[:-3]}\")\n",
    "engine.say(f\"Gold bid price is : {Bid_price.text[:-3]}\")\n",
    "engine.runAndWait()"
   ]
  },
  {
   "cell_type": "code",
   "execution_count": 1,
   "id": "8fe63b07",
   "metadata": {},
   "outputs": [
    {
     "name": "stdout",
     "output_type": "stream",
     "text": [
      "Bid price per oz= 1,988.40\n",
      "Ask price per oz= 1,989.40\n",
      "High: 2,004.20Low: 1,985.20\n"
     ]
    },
    {
     "name": "stderr",
     "output_type": "stream",
     "text": [
      "Exception ignored in: <function BSTR.__del__ at 0x000001574EEAAC20>\n",
      "Traceback (most recent call last):\n",
      "  File \"C:\\Users\\Armen\\AppData\\Local\\Packages\\PythonSoftwareFoundation.Python.3.10_qbz5n2kfra8p0\\LocalCache\\local-packages\\Python310\\site-packages\\comtypes\\__init__.py\", line 1043, in __del__\n",
      "    def __del__(self, _free=windll.oleaut32.SysFreeString):\n",
      "KeyboardInterrupt: \n"
     ]
    },
    {
     "ename": "KeyboardInterrupt",
     "evalue": "",
     "output_type": "error",
     "traceback": [
      "\u001b[1;31m---------------------------------------------------------------------------\u001b[0m",
      "\u001b[1;31mKeyboardInterrupt\u001b[0m                         Traceback (most recent call last)",
      "\u001b[1;32mc:\\my_Pys\\teach_py\\Web_scrape\\Gold_price_Kitco.ipynb Cell 4\u001b[0m in \u001b[0;36m2\n\u001b[0;32m     <a href='vscode-notebook-cell:/c%3A/my_Pys/teach_py/Web_scrape/Gold_price_Kitco.ipynb#W3sZmlsZQ%3D%3D?line=19'>20</a>\u001b[0m engine\u001b[39m.\u001b[39msay(\u001b[39mf\u001b[39m\u001b[39m\"\u001b[39m\u001b[39mGold high price is : \u001b[39m\u001b[39m{\u001b[39;00mHi_Lo\u001b[39m.\u001b[39mtext\u001b[39m.\u001b[39msplit(\u001b[39m'\u001b[39m\u001b[39m:\u001b[39m\u001b[39m'\u001b[39m)[\u001b[39m1\u001b[39m][:\u001b[39m-\u001b[39m\u001b[39m3\u001b[39m]\u001b[39m.\u001b[39mstrip()\u001b[39m}\u001b[39;00m\u001b[39m\"\u001b[39m)\n\u001b[0;32m     <a href='vscode-notebook-cell:/c%3A/my_Pys/teach_py/Web_scrape/Gold_price_Kitco.ipynb#W3sZmlsZQ%3D%3D?line=20'>21</a>\u001b[0m engine\u001b[39m.\u001b[39mrunAndWait()\n\u001b[1;32m---> <a href='vscode-notebook-cell:/c%3A/my_Pys/teach_py/Web_scrape/Gold_price_Kitco.ipynb#W3sZmlsZQ%3D%3D?line=22'>23</a>\u001b[0m time\u001b[39m.\u001b[39;49msleep(\u001b[39m20\u001b[39;49m)  \n",
      "\u001b[1;31mKeyboardInterrupt\u001b[0m: "
     ]
    }
   ],
   "source": [
    "import time \n",
    "import requests\n",
    "from bs4 import BeautifulSoup as BS\n",
    "import pyttsx3\n",
    "engine = pyttsx3.init()\n",
    "\n",
    "url ='https://www.kitco.com/charts/livegold.html'\n",
    "while True:\n",
    "    response = requests.get(url)\n",
    "    page_content = BS(response.text, \"html.parser\")\n",
    "    Ask_price= page_content.find('div', class_ = 'data-blk ask')\n",
    "    Bid_price= page_content.find('div', class_ = 'data-blk bid')\n",
    "    Hi_Lo= page_content.find('div', class_ = 'data-blk hi-lo')\n",
    "\n",
    "    print(f'Bid price per oz= {Bid_price.text[:-3]}')\n",
    "    print(f'Ask price per oz= {Ask_price.text[:-3]}')\n",
    "    print(Hi_Lo.text)\n",
    "    # Speech \n",
    "    engine.say(f\"Gold low price is : {Hi_Lo.text.split(':')[2]}\")\n",
    "    engine.say(f\"Gold high price is : {Hi_Lo.text.split(':')[1][:-3].strip()}\")\n",
    "    engine.runAndWait()\n",
    "\n",
    "    time.sleep(20)  "
   ]
  },
  {
   "cell_type": "code",
   "execution_count": null,
   "id": "6810d82e",
   "metadata": {},
   "outputs": [],
   "source": []
  },
  {
   "cell_type": "code",
   "execution_count": null,
   "id": "f3790b55",
   "metadata": {},
   "outputs": [],
   "source": []
  }
 ],
 "metadata": {
  "kernelspec": {
   "display_name": "Python 3 (ipykernel)",
   "language": "python",
   "name": "python3"
  },
  "language_info": {
   "codemirror_mode": {
    "name": "ipython",
    "version": 3
   },
   "file_extension": ".py",
   "mimetype": "text/x-python",
   "name": "python",
   "nbconvert_exporter": "python",
   "pygments_lexer": "ipython3",
   "version": "3.10.11"
  }
 },
 "nbformat": 4,
 "nbformat_minor": 5
}
