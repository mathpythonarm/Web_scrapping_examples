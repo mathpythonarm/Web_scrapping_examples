{
 "cells": [
  {
   "cell_type": "code",
   "execution_count": null,
   "id": "28b2a5c7",
   "metadata": {},
   "outputs": [],
   "source": [
    "import requests\n",
    "from bs4 import BeautifulSoup"
   ]
  },
  {
   "cell_type": "code",
   "execution_count": null,
   "id": "bbb805dd",
   "metadata": {},
   "outputs": [],
   "source": [
    "fav=int(input('Select a number to choose a brand: 1.HP 2.Dell 3.Apple 4.LENOVO 5.ACER   '))\n",
    "\n",
    "if fav==1:\n",
    "    url='https://mobilecentre.am/category/computers/144/0/?search=filters&searchData_brand=[%2255772%22]'\n",
    "elif fav==2:\n",
    "    url='https://mobilecentre.am/category/computers/144/0/?search=filters&searchData_brand=[%2255762%22]'\n",
    "elif fav==3:\n",
    "    url='https://mobilecentre.am/category/computers/144/0/?search=filters&searchData_brand=[%2255413%22]'\n",
    "elif fav==4:\n",
    "    url='https://mobilecentre.am/category/computers/144/0/?search=filters&searchData_brand=[%2255493%22]'\n",
    "elif fav==5:\n",
    "    url='https://mobilecentre.am/category/computers/144/0/?search=filters&searchData_brand=[%2255776%22]'\n",
    "else:\n",
    "    url='https://mobilecentre.am/category/computers/144/0/?search=filters'"
   ]
  },
  {
   "cell_type": "code",
   "execution_count": null,
   "id": "38fb5a4c",
   "metadata": {},
   "outputs": [],
   "source": [
    "page= requests.get(url)"
   ]
  },
  {
   "cell_type": "code",
   "execution_count": null,
   "id": "b34c3c19",
   "metadata": {},
   "outputs": [],
   "source": [
    "soup= BeautifulSoup(page.content, 'html.parser')"
   ]
  },
  {
   "cell_type": "code",
   "execution_count": null,
   "id": "66299795",
   "metadata": {},
   "outputs": [],
   "source": [
    "print(soup)"
   ]
  },
  {
   "cell_type": "code",
   "execution_count": null,
   "id": "79130666",
   "metadata": {},
   "outputs": [],
   "source": [
    "brands= soup.find_all('h3')\n",
    "print(brands)"
   ]
  },
  {
   "cell_type": "code",
   "execution_count": null,
   "id": "b8cd2549",
   "metadata": {},
   "outputs": [],
   "source": [
    "for brand in brands:\n",
    "#     print(brand) # brand contains all details.\n",
    "    print(brand.text) # brand.text is the text on each item in brands."
   ]
  },
  {
   "cell_type": "markdown",
   "id": "6b91a4c1",
   "metadata": {},
   "source": [
    "Do the above code again to create a clean list of texts."
   ]
  },
  {
   "cell_type": "code",
   "execution_count": null,
   "id": "fecac6e6",
   "metadata": {
    "scrolled": true
   },
   "outputs": [],
   "source": [
    "brand_list=[]\n",
    "for brand in brands:\n",
    "    brand_list.append(brand.text) # brand.text is the text on each item in brands.\n",
    "print(brand_list)"
   ]
  },
  {
   "cell_type": "code",
   "execution_count": null,
   "id": "06e052a0",
   "metadata": {},
   "outputs": [],
   "source": [
    "prices = soup.find_all('span',class_='regular')\n",
    "price_list = list()\n",
    "\n",
    "for price in prices:\n",
    "    print(price.text[:-3])\n",
    "    price_list.append(price.text[:-3])\n",
    "print(price_list)"
   ]
  },
  {
   "cell_type": "code",
   "execution_count": null,
   "id": "3851222e",
   "metadata": {},
   "outputs": [],
   "source": [
    "res = dict(zip(brand_list, price_list))\n",
    "\n",
    "for item in res:\n",
    "    print(item,'\\n',res[item])"
   ]
  },
  {
   "cell_type": "markdown",
   "id": "ac39a450",
   "metadata": {},
   "source": [
    "Summary: Now we have a clear code to extract brands and prices."
   ]
  },
  {
   "cell_type": "code",
   "execution_count": 2,
   "id": "4e88c74c",
   "metadata": {},
   "outputs": [
    {
     "name": "stdout",
     "output_type": "stream",
     "text": [
      "Select a number to choose a brand: 1.HP 2.Dell 3.Apple 4.LENOVO 5.ACER   4\n",
      "PC All In One LENOVO E63 Z-10E0005KAX (Black) \n",
      " 379,900\n",
      "PC All In One \"LENOVO\" V310Z 10QG-000XAX Black \n",
      " 399,900\n",
      "PC Notebook Lenovo TB15 (Grey) \n",
      " 345,900\n",
      "PC Notebook Lenovo ThinkPad E14 20RA000GAD (Black) \n",
      " 349,900\n",
      "LENOVO/Legion Y540-17IRH/I5-9300H/2x 8GB SO-DIMM DDR4-2666/17.3 FHD/512GB SSD/GTX 1660 Ti 6GB GDDR6/FreeDOS/81Q400FHRE/Raven Black \n",
      " 815,900\n",
      "PC Notebook Lenovo V15 (Grey) \n",
      " 299,900\n"
     ]
    }
   ],
   "source": [
    "import requests\n",
    "from bs4 import BeautifulSoup\n",
    "\n",
    "fav=int(input('Select a number to choose a brand: 1.HP 2.Dell 3.Apple 4.LENOVO 5.ACER   '))\n",
    "if fav==1:\n",
    "    url='https://mobilecentre.am/category/computers/144/0/?search=filters&searchData_brand=[%2255772%22]'\n",
    "elif fav==2:\n",
    "    url='https://mobilecentre.am/category/computers/144/0/?search=filters&searchData_brand=[%2255762%22]'\n",
    "elif fav==3:\n",
    "    url='https://mobilecentre.am/category/computers/144/0/?search=filters&searchData_brand=[%2255413%22]'\n",
    "elif fav==4:\n",
    "    url='https://mobilecentre.am/category/computers/144/0/?search=filters&searchData_brand=[%2255493%22]'\n",
    "elif fav==5:\n",
    "    url='https://mobilecentre.am/category/computers/144/0/?search=filters&searchData_brand=[%2255776%22]'\n",
    "else:\n",
    "    url='https://mobilecentre.am/category/computers/144/0/?search=filters'\n",
    "    \n",
    "page= requests.get(url)\n",
    "soup= BeautifulSoup(page.content, 'html.parser')\n",
    "\n",
    "brands= soup.find_all('h3')\n",
    "prices = soup.find_all('span', class_='regular')\n",
    "\n",
    "\n",
    "brand_list=[]\n",
    "for brand in brands:\n",
    "    brand_list.append(brand.text)\n",
    "    \n",
    "price_list = []\n",
    "for price in prices:\n",
    "    price_list.append(price.text[:-3])\n",
    "\n",
    "res = dict(zip(brand_list, price_list))\n",
    "for item in res:\n",
    "    print(item,'\\n',res[item])\n"
   ]
  },
  {
   "cell_type": "code",
   "execution_count": null,
   "id": "6cf404c0",
   "metadata": {},
   "outputs": [],
   "source": []
  }
 ],
 "metadata": {
  "kernelspec": {
   "display_name": "Python 3 (ipykernel)",
   "language": "python",
   "name": "python3"
  },
  "language_info": {
   "codemirror_mode": {
    "name": "ipython",
    "version": 3
   },
   "file_extension": ".py",
   "mimetype": "text/x-python",
   "name": "python",
   "nbconvert_exporter": "python",
   "pygments_lexer": "ipython3",
   "version": "3.10.9"
  }
 },
 "nbformat": 4,
 "nbformat_minor": 5
}
